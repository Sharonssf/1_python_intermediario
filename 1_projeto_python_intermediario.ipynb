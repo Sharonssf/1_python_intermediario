{
  "nbformat": 4,
  "nbformat_minor": 0,
  "metadata": {
    "colab": {
      "provenance": [],
      "authorship_tag": "ABX9TyNMBU+6ae5iDyxqpJBi+oD0",
      "include_colab_link": true
    },
    "kernelspec": {
      "name": "python3",
      "display_name": "Python 3"
    },
    "language_info": {
      "name": "python"
    }
  },
  "cells": [
    {
      "cell_type": "markdown",
      "metadata": {
        "id": "view-in-github",
        "colab_type": "text"
      },
      "source": [
        "<a href=\"https://colab.research.google.com/github/Sharonssf/1_python_intermediario/blob/main/1_projeto_python_intermediario.ipynb\" target=\"_parent\"><img src=\"https://colab.research.google.com/assets/colab-badge.svg\" alt=\"Open In Colab\"/></a>"
      ]
    },
    {
      "cell_type": "code",
      "execution_count": null,
      "metadata": {
        "colab": {
          "base_uri": "https://localhost:8080/"
        },
        "id": "3FzvsgxRndht",
        "outputId": "9f0d3cf4-752b-4913-a094-e0b2a02bba44"
      },
      "outputs": [
        {
          "output_type": "stream",
          "name": "stdout",
          "text": [
            "6\n"
          ]
        }
      ],
      "source": [
        "#Só um exemplo para eu me lembrar de como funciona função recursiva e não me perder no meio do codigo\n",
        "def fatorial(n):\n",
        "  if n <= 1:\n",
        "    return n\n",
        "  else:\n",
        "    return n * (n-1)\n",
        "\n",
        "\n",
        "teste = fatorial(3)\n",
        "print(teste)"
      ]
    },
    {
      "cell_type": "code",
      "source": [
        "################################################################################################################\n",
        "#######################          CODIGO INTEIRAMENTE COMENTADO PARA FACILITAR          #########################\n",
        "#######################                        A COMPREENSÃO                           #########################\n",
        "################################################################################################################\n",
        "\n",
        "\n",
        "\n",
        "\n",
        "# Função recursiva que exibe os valores filtrados do set\n",
        "def exibir_valores_filtrados(valores_filtrados):\n",
        "    try:\n",
        "        valor = next(valores_filtrados)\n",
        "        print(valor.strip())\n",
        "        exibir_valores_filtrados(valores_filtrados)\n",
        "    #erro especifico que estava dando quando não havia mais valores\n",
        "    except StopIteration:\n",
        "        pass\n",
        "\n",
        "# Função que escreve elementos de um conjunto em um arquivo\n",
        "def escrever_set_em_arquivo(conjunto, arquivo):\n",
        "    if not conjunto:\n",
        "        return\n",
        "    elemento = conjunto.pop()\n",
        "    arquivo.write(str(elemento) + '\\n')\n",
        "    escrever_set_em_arquivo(conjunto, arquivo)\n",
        "\n",
        "# Conjunto set com alguns valores\n",
        "meu_set = {10, 20, 30, 40, 50}\n",
        "\n",
        "# Criação do arquivo para escrever os numeros\n",
        "with open('meu_set.txt', 'w') as arquivo:\n",
        "    # Chama a função recursiva para escrever os elementos do conjunto no arquivo\n",
        "    escrever_set_em_arquivo(meu_set, arquivo)\n",
        "\n",
        "# Leitura do arquivo anteriormente criado\n",
        "with open('meu_set.txt', 'r') as arquivo:\n",
        "    # Filtragem dos arquivos (somente numeros acima de 30)\n",
        "    valores_filtrados = filter(lambda x: int(x) > 30, arquivo.readlines())\n",
        "\n",
        "    # Chama a função recursiva para exibir os valores filtrados\n",
        "    print(\"Numeros filtrados: \")\n",
        "    exibir_valores_filtrados(valores_filtrados)\n"
      ],
      "metadata": {
        "colab": {
          "base_uri": "https://localhost:8080/"
        },
        "id": "110If9c8v4x3",
        "outputId": "240ca930-26aa-4750-fbe6-d07be5c68fe0"
      },
      "execution_count": null,
      "outputs": [
        {
          "output_type": "stream",
          "name": "stdout",
          "text": [
            "Numeros filtrados: \n",
            "50\n",
            "40\n"
          ]
        }
      ]
    }
  ]
}